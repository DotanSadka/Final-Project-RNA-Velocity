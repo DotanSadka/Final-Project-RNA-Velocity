{
 "cells": [
  {
   "cell_type": "code",
   "execution_count": 1,
   "metadata": {},
   "outputs": [],
   "source": [
    "import pandas as pd"
   ]
  },
  {
   "cell_type": "code",
   "execution_count": 4,
   "metadata": {},
   "outputs": [],
   "source": [
    "main_file = pd.read_csv('cell_pc_df.csv')\n",
    "label_c_column = main_file['labels_c']"
   ]
  },
  {
   "cell_type": "code",
   "execution_count": 5,
   "metadata": {},
   "outputs": [],
   "source": [
    "files = [ 'st_t=0.2_filter.csv', 'st_t=0.4_filter.csv', 'st_t=0.6_filter.csv', 'st_t=0.8_filter.csv',  'st_t=1.0_filter.csv', 'st_t=1.2_filter.csv', 'st_t=1.4_filter.csv', \n",
    "         'st_t=1.6_filter.csv',  'st_t=1.8_filter.csv', 'st_t=2.0_filter.csv', 'st_t=2.2_filter.csv', 'st_t=2.4_filter.csv',  'st_t=2.6_filter.csv', 'st_t=2.8_filter.csv', \n",
    "         'st_t=3.0_filter.csv', 'st_t=3.2_filter.csv',  'st_t=3.4_filter.csv', 'st_t=3.6_filter.csv', 'st_t=3.8_filter.csv', 'st_t=4.0_filter.csv',  'st_t=4.2_filter.csv', \n",
    "         'st_t=4.4_filter.csv', 'st_t=4.6_filter.csv', 'st_t=4.8_filter.csv',  'st_t=5.0_filter.csv']\n"
   ]
  },
  {
   "cell_type": "code",
   "execution_count": 6,
   "metadata": {},
   "outputs": [],
   "source": [
    "for file in files:\n",
    "    # קריאת הקובץ\n",
    "    df = pd.read_csv(file)\n",
    "    \n",
    "    # הוספת העמודה 'label_c'\n",
    "    df['labels_c'] = label_c_column\n",
    "    \n",
    "    # שמירת הקובץ עם העמודה החדשה\n",
    "    df.to_csv(file, index=False)"
   ]
  }
 ],
 "metadata": {
  "kernelspec": {
   "display_name": "Python 3",
   "language": "python",
   "name": "python3"
  },
  "language_info": {
   "codemirror_mode": {
    "name": "ipython",
    "version": 3
   },
   "file_extension": ".py",
   "mimetype": "text/x-python",
   "name": "python",
   "nbconvert_exporter": "python",
   "pygments_lexer": "ipython3",
   "version": "3.11.9"
  }
 },
 "nbformat": 4,
 "nbformat_minor": 2
}
