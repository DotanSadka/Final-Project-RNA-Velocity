{
 "cells": [
  {
   "cell_type": "code",
   "execution_count": 1,
   "metadata": {},
   "outputs": [],
   "source": [
    "import pandas as pd\n"
   ]
  },
  {
   "cell_type": "markdown",
   "metadata": {},
   "source": [
    "read the data"
   ]
  },
  {
   "cell_type": "code",
   "execution_count": 2,
   "metadata": {},
   "outputs": [],
   "source": [
    "adata_genes_100 = pd.read_csv('adata_genes_100_RNA_velocity_030924.csv')\n",
    "adata_genes_313 = pd.read_csv('adata_genes_313_RNA_velocity_030924.csv')\n",
    "adata_genes_364 = pd.read_csv('adata_genes_364_RNA_velocity_030924.csv')\n",
    "adata_genes_880 = pd.read_csv('adata_genes_880_RNA_velocity_030924.csv')\n",
    "adata_genes_982 = pd.read_csv('adata_genes_982_RNA_velocity_030924.csv')"
   ]
  },
  {
   "cell_type": "code",
   "execution_count": 3,
   "metadata": {},
   "outputs": [],
   "source": [
    "dfs = [adata_genes_100, adata_genes_313, adata_genes_364, adata_genes_880, adata_genes_982]"
   ]
  },
  {
   "cell_type": "code",
   "execution_count": 4,
   "metadata": {},
   "outputs": [],
   "source": [
    "adata_genes = pd.concat([df[['cell_name', 'cell_type', 'count_tumor_total']]for df in dfs], ignore_index=True)"
   ]
  },
  {
   "cell_type": "code",
   "execution_count": 5,
   "metadata": {},
   "outputs": [
    {
     "data": {
      "text/html": [
       "<div>\n",
       "<style scoped>\n",
       "    .dataframe tbody tr th:only-of-type {\n",
       "        vertical-align: middle;\n",
       "    }\n",
       "\n",
       "    .dataframe tbody tr th {\n",
       "        vertical-align: top;\n",
       "    }\n",
       "\n",
       "    .dataframe thead th {\n",
       "        text-align: right;\n",
       "    }\n",
       "</style>\n",
       "<table border=\"1\" class=\"dataframe\">\n",
       "  <thead>\n",
       "    <tr style=\"text-align: right;\">\n",
       "      <th></th>\n",
       "      <th>cell_name</th>\n",
       "      <th>cell_type</th>\n",
       "      <th>count_tumor_total</th>\n",
       "    </tr>\n",
       "  </thead>\n",
       "  <tbody>\n",
       "    <tr>\n",
       "      <th>0</th>\n",
       "      <td>X100.3.001</td>\n",
       "      <td>B-cell</td>\n",
       "      <td>1</td>\n",
       "    </tr>\n",
       "    <tr>\n",
       "      <th>1</th>\n",
       "      <td>X100.13.001</td>\n",
       "      <td>Unknown2</td>\n",
       "      <td>0</td>\n",
       "    </tr>\n",
       "    <tr>\n",
       "      <th>2</th>\n",
       "      <td>X100.21.001</td>\n",
       "      <td>UnKnown1</td>\n",
       "      <td>0</td>\n",
       "    </tr>\n",
       "    <tr>\n",
       "      <th>3</th>\n",
       "      <td>X100.28.001</td>\n",
       "      <td>UnKnown1</td>\n",
       "      <td>0</td>\n",
       "    </tr>\n",
       "    <tr>\n",
       "      <th>4</th>\n",
       "      <td>X100.31.001</td>\n",
       "      <td>Tumor</td>\n",
       "      <td>0</td>\n",
       "    </tr>\n",
       "    <tr>\n",
       "      <th>...</th>\n",
       "      <td>...</td>\n",
       "      <td>...</td>\n",
       "      <td>...</td>\n",
       "    </tr>\n",
       "    <tr>\n",
       "      <th>4525</th>\n",
       "      <td>X982.15.062</td>\n",
       "      <td>Macrophage</td>\n",
       "      <td>0</td>\n",
       "    </tr>\n",
       "    <tr>\n",
       "      <th>4526</th>\n",
       "      <td>X982.57.062</td>\n",
       "      <td>Macrophage</td>\n",
       "      <td>0</td>\n",
       "    </tr>\n",
       "    <tr>\n",
       "      <th>4527</th>\n",
       "      <td>X982.64.062</td>\n",
       "      <td>T-cell</td>\n",
       "      <td>0</td>\n",
       "    </tr>\n",
       "    <tr>\n",
       "      <th>4528</th>\n",
       "      <td>X982.67.062</td>\n",
       "      <td>Macrophage</td>\n",
       "      <td>0</td>\n",
       "    </tr>\n",
       "    <tr>\n",
       "      <th>4529</th>\n",
       "      <td>X982.72.062</td>\n",
       "      <td>Macrophage</td>\n",
       "      <td>0</td>\n",
       "    </tr>\n",
       "  </tbody>\n",
       "</table>\n",
       "<p>4530 rows × 3 columns</p>\n",
       "</div>"
      ],
      "text/plain": [
       "        cell_name   cell_type  count_tumor_total\n",
       "0      X100.3.001      B-cell                  1\n",
       "1     X100.13.001    Unknown2                  0\n",
       "2     X100.21.001    UnKnown1                  0\n",
       "3     X100.28.001    UnKnown1                  0\n",
       "4     X100.31.001       Tumor                  0\n",
       "...           ...         ...                ...\n",
       "4525  X982.15.062  Macrophage                  0\n",
       "4526  X982.57.062  Macrophage                  0\n",
       "4527  X982.64.062      T-cell                  0\n",
       "4528  X982.67.062  Macrophage                  0\n",
       "4529  X982.72.062  Macrophage                  0\n",
       "\n",
       "[4530 rows x 3 columns]"
      ]
     },
     "execution_count": 5,
     "metadata": {},
     "output_type": "execute_result"
    }
   ],
   "source": [
    "adata_genes"
   ]
  },
  {
   "cell_type": "code",
   "execution_count": 6,
   "metadata": {},
   "outputs": [],
   "source": [
    "adata_genes.to_csv('adata_genes_4530.csv', index=False)"
   ]
  }
 ],
 "metadata": {
  "kernelspec": {
   "display_name": "Python 3",
   "language": "python",
   "name": "python3"
  },
  "language_info": {
   "codemirror_mode": {
    "name": "ipython",
    "version": 3
   },
   "file_extension": ".py",
   "mimetype": "text/x-python",
   "name": "python",
   "nbconvert_exporter": "python",
   "pygments_lexer": "ipython3",
   "version": "3.11.9"
  }
 },
 "nbformat": 4,
 "nbformat_minor": 2
}
