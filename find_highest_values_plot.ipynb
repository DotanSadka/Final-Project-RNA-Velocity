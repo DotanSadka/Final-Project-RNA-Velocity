{
 "cells": [
  {
   "cell_type": "code",
   "execution_count": 2,
   "metadata": {},
   "outputs": [],
   "source": [
    "import pandas as pd\n",
    "import numpy as np"
   ]
  },
  {
   "cell_type": "markdown",
   "metadata": {},
   "source": [
    "load the csv files (the counts 0)"
   ]
  },
  {
   "cell_type": "code",
   "execution_count": 4,
   "metadata": {},
   "outputs": [],
   "source": [
    "csv_files = [\n",
    "    'plot_values_spliced_300.csv',\n",
    "    'plot_values_unspliced_300.csv',\n",
    "    'plot_values_spliced_200.csv',\n",
    "    'plot_values_unspliced_200.csv',\n",
    "    'plot_values_spliced_400.csv',\n",
    "    'plot_values_unspliced_400.csv'\n",
    "\n",
    "]\n"
   ]
  },
  {
   "cell_type": "markdown",
   "metadata": {},
   "source": [
    "turn it into a datafram"
   ]
  },
  {
   "cell_type": "markdown",
   "metadata": {},
   "source": [
    "combine all the matrix into one and saving it as a csv file"
   ]
  },
  {
   "cell_type": "code",
   "execution_count": 5,
   "metadata": {},
   "outputs": [],
   "source": [
    "df_spliced_300 = pd.read_csv('plot_values_spliced_300.csv')\n",
    "df_spliced_400 = pd.read_csv('plot_values_spliced_400.csv')\n",
    "df_spliced_200 = pd.read_csv('plot_values_spliced_200.csv')"
   ]
  },
  {
   "cell_type": "code",
   "execution_count": 7,
   "metadata": {},
   "outputs": [],
   "source": [
    "df_unspliced_300= pd.read_csv('plot_values_unspliced_300.csv')\n",
    "df_unspliced_400= pd.read_csv('plot_values_unspliced_400.csv')\n",
    "df_unspliced_200= pd.read_csv('plot_values_unspliced_200.csv')"
   ]
  },
  {
   "cell_type": "code",
   "execution_count": 9,
   "metadata": {},
   "outputs": [],
   "source": [
    "max_values_spliced_300 = df_spliced_300.max()\n",
    "max_values_unspliced_300 = df_unspliced_300.max()\n",
    "max_values_spliced_200 = df_spliced_200.max()\n",
    "max_values_unspliced_200 = df_unspliced_200.max()\n",
    "max_values_spliced_400 = df_spliced_400.max()\n",
    "max_values_unspliced_400 = df_unspliced_400.max()"
   ]
  },
  {
   "cell_type": "code",
   "execution_count": 14,
   "metadata": {},
   "outputs": [
    {
     "name": "stdout",
     "output_type": "stream",
     "text": [
      "Unnamed: 0    X982.99.02\n",
      "LAMA1           0.037634\n",
      "MZB1             0.01451\n",
      "RPL13           0.002598\n",
      "FOS             0.057837\n",
      "                 ...    \n",
      "HSPG2           0.006655\n",
      "COL1A1          0.004092\n",
      "CEACAM1         0.001522\n",
      "PTEN            0.002083\n",
      "ACTG2           0.002656\n",
      "Length: 272, dtype: object Unnamed: 0    X982.99.02\n",
      "LAMA1           0.041996\n",
      "MZB1            0.014322\n",
      "RPL13           0.003161\n",
      "FOS             0.064858\n",
      "                 ...    \n",
      "HSPG2           0.008545\n",
      "COL1A1          0.004917\n",
      "CEACAM1         0.002424\n",
      "PTEN            0.002509\n",
      "ACTG2           0.003033\n",
      "Length: 272, dtype: object Unnamed: 0    X982.99.02\n",
      "LAMA1            0.03435\n",
      "MZB1            0.012202\n",
      "RPL13           0.002411\n",
      "FOS              0.05318\n",
      "                 ...    \n",
      "HSPG2           0.005412\n",
      "COL1A1          0.003739\n",
      "CEACAM1          0.00123\n",
      "PTEN            0.001669\n",
      "ACTG2           0.002166\n",
      "Length: 272, dtype: object Unnamed: 0    X982.99.02\n",
      "LAMA1           0.037771\n",
      "MZB1            0.011535\n",
      "RPL13           0.002903\n",
      "FOS             0.060161\n",
      "                 ...    \n",
      "HSPG2           0.006047\n",
      "COL1A1          0.004127\n",
      "CEACAM1         0.001931\n",
      "PTEN            0.002205\n",
      "ACTG2           0.002323\n",
      "Length: 272, dtype: object Unnamed: 0    X982.99.02\n",
      "LAMA1           0.031043\n",
      "MZB1            0.011081\n",
      "RPL13           0.002295\n",
      "FOS             0.051864\n",
      "                 ...    \n",
      "HSPG2           0.004828\n",
      "COL1A1          0.003597\n",
      "CEACAM1         0.001068\n",
      "PTEN            0.001593\n",
      "ACTG2           0.001836\n",
      "Length: 272, dtype: object Unnamed: 0    X982.99.02\n",
      "LAMA1           0.038401\n",
      "MZB1            0.010695\n",
      "RPL13           0.002507\n",
      "FOS             0.056961\n",
      "                 ...    \n",
      "HSPG2           0.005464\n",
      "COL1A1          0.003971\n",
      "CEACAM1         0.001615\n",
      "PTEN            0.002004\n",
      "ACTG2            0.00191\n",
      "Length: 272, dtype: object\n"
     ]
    }
   ],
   "source": [
    "print(max_values_spliced_200, max_values_unspliced_200, max_values_spliced_300, max_values_unspliced_300, max_values_spliced_400, max_values_unspliced_400)\n"
   ]
  },
  {
   "cell_type": "code",
   "execution_count": 13,
   "metadata": {},
   "outputs": [],
   "source": [
    "combined_df = pd.DataFrame({\n",
    "    'Gene': max_values_spliced_300.index,  # שמות הגנים\n",
    "    'Spliced_300': max_values_spliced_300.values,\n",
    "    'Unspliced_300': max_values_unspliced_300.values,\n",
    "    'Spliced_200': max_values_spliced_200.values,\n",
    "    'Unspliced_200': max_values_unspliced_200.values,\n",
    "    'Spliced_400': max_values_spliced_400.values,\n",
    "    'Unspliced_400': max_values_unspliced_400.values\n",
    "})"
   ]
  },
  {
   "cell_type": "code",
   "execution_count": 15,
   "metadata": {},
   "outputs": [],
   "source": [
    "combined_df.to_csv('max_values_plots.csv', header=True)"
   ]
  },
  {
   "cell_type": "code",
   "execution_count": 16,
   "metadata": {},
   "outputs": [],
   "source": [
    "max_values_spliced_200.to_csv('max_values_spliced_200.csv', header=True)\n",
    "max_values_unspliced_200.to_csv('max_values_unspliced_200.csv', header=True)"
   ]
  },
  {
   "cell_type": "code",
   "execution_count": 6,
   "metadata": {},
   "outputs": [
    {
     "data": {
      "text/plain": [
       "(Unnamed: 0    X100.1.007\n",
       " LAMA1           0.000934\n",
       " MZB1            0.000634\n",
       " RPL13           0.000298\n",
       " FOS             0.011326\n",
       "                  ...    \n",
       " HSPG2           0.000227\n",
       " COL1A1          0.000933\n",
       " CEACAM1         0.000101\n",
       " PTEN            0.000143\n",
       " ACTG2           0.000127\n",
       " Length: 272, dtype: object,\n",
       " Unnamed: 0    X100.1.007\n",
       " LAMA1           0.001376\n",
       " MZB1            0.000364\n",
       " RPL13           0.000122\n",
       " FOS             0.009939\n",
       "                  ...    \n",
       " HSPG2           0.000141\n",
       " COL1A1          0.000198\n",
       " CEACAM1              0.0\n",
       " PTEN            0.000136\n",
       " ACTG2                0.0\n",
       " Length: 272, dtype: object)"
      ]
     },
     "execution_count": 6,
     "metadata": {},
     "output_type": "execute_result"
    }
   ],
   "source": [
    "min_values_spliced = df_spliced.min()\n",
    "min_values_unspliced = df_unspliced.min()\n",
    "min_values_spliced, min_values_unspliced"
   ]
  },
  {
   "cell_type": "code",
   "execution_count": 7,
   "metadata": {},
   "outputs": [],
   "source": [
    "min_values_spliced.to_csv('min_values_spliced.csv', header=True)\n",
    "min_values_unspliced.to_csv('min_values_unspliced.csv', header=True)"
   ]
  },
  {
   "cell_type": "code",
   "execution_count": 17,
   "metadata": {},
   "outputs": [
    {
     "name": "stdout",
     "output_type": "stream",
     "text": [
      "    Unnamed: 0         0\n",
      "231       CD24  0.287516\n",
      "145      IGHG1  0.201199\n",
      "55         LYZ  0.159038\n",
      "147      IGHG4  0.154805\n",
      "53        IGKC  0.066493\n"
     ]
    }
   ],
   "source": [
    "file_path = 'max_values_spliced_200.csv'\n",
    "df = pd.read_csv(file_path)\n",
    "\n",
    "# המרת העמודה השנייה לערכים נומריים, תוך התעלמות מטעויות\n",
    "df.iloc[:, 1] = pd.to_numeric(df.iloc[:, 1], errors='coerce')\n",
    "\n",
    "# מיון ה-DataFrame לפי העמודה השנייה בסדר יורד\n",
    "df_sorted = df.sort_values(by=df.columns[1], ascending=False)\n",
    "\n",
    "# הצגת ה-DataFrame הממויין\n",
    "print(df_sorted.head())\n",
    "\n",
    "# שמירת ה-DataFrame הממויין בחזרה כקובץ CSV\n",
    "df_sorted.to_csv('max_values_spliced_200_sorted.csv', index=False)"
   ]
  },
  {
   "cell_type": "code",
   "execution_count": 18,
   "metadata": {},
   "outputs": [
    {
     "name": "stdout",
     "output_type": "stream",
     "text": [
      "    Unnamed: 0         0\n",
      "231       CD24  0.301566\n",
      "145      IGHG1  0.196497\n",
      "147      IGHG4   0.14678\n",
      "55         LYZ  0.145753\n",
      "66        MYLK   0.06961\n"
     ]
    }
   ],
   "source": [
    "file_path = 'max_values_unspliced_200.csv'\n",
    "df = pd.read_csv(file_path)\n",
    "\n",
    "# המרת העמודה השנייה לערכים נומריים, תוך התעלמות מטעויות\n",
    "df.iloc[:, 1] = pd.to_numeric(df.iloc[:, 1], errors='coerce')\n",
    "\n",
    "# מיון ה-DataFrame לפי העמודה השנייה בסדר יורד\n",
    "df_sorted = df.sort_values(by=df.columns[1], ascending=False)\n",
    "\n",
    "# הצגת ה-DataFrame הממויין\n",
    "print(df_sorted.head())\n",
    "\n",
    "# שמירת ה-DataFrame הממויין בחזרה כקובץ CSV\n",
    "df_sorted.to_csv('max_values_unspliced_200_sorted.csv', index=False)"
   ]
  },
  {
   "cell_type": "code",
   "execution_count": 8,
   "metadata": {},
   "outputs": [
    {
     "name": "stdout",
     "output_type": "stream",
     "text": [
      "    Unnamed: 0         0\n",
      "4          FOS  0.011326\n",
      "55         LYZ  0.009016\n",
      "154      FABP7  0.003648\n",
      "231       CD24  0.003221\n",
      "95        TFRC  0.002819\n"
     ]
    }
   ],
   "source": [
    "file_path = 'min_values_spliced.csv'\n",
    "df = pd.read_csv(file_path)\n",
    "\n",
    "# המרת העמודה השנייה לערכים נומריים, תוך התעלמות מטעויות\n",
    "df.iloc[:, 1] = pd.to_numeric(df.iloc[:, 1], errors='coerce')\n",
    "\n",
    "# מיון ה-DataFrame לפי העמודה השנייה בסדר יורד\n",
    "df_sorted = df.sort_values(by=df.columns[1], ascending=False)\n",
    "\n",
    "# הצגת ה-DataFrame הממויין\n",
    "print(df_sorted.head())\n",
    "\n",
    "# שמירת ה-DataFrame הממויין בחזרה כקובץ CSV\n",
    "df_sorted.to_csv('min_values_spliced_sorted.csv', index=False)"
   ]
  },
  {
   "cell_type": "code",
   "execution_count": 9,
   "metadata": {},
   "outputs": [
    {
     "name": "stdout",
     "output_type": "stream",
     "text": [
      "    Unnamed: 0         0\n",
      "4          FOS  0.009939\n",
      "55         LYZ   0.00747\n",
      "154      FABP7  0.004158\n",
      "231       CD24  0.003037\n",
      "128        LTF  0.002551\n"
     ]
    }
   ],
   "source": [
    "file_path = 'min_values_unspliced.csv'\n",
    "df = pd.read_csv(file_path)\n",
    "\n",
    "# המרת העמודה השנייה לערכים נומריים, תוך התעלמות מטעויות\n",
    "df.iloc[:, 1] = pd.to_numeric(df.iloc[:, 1], errors='coerce')\n",
    "\n",
    "# מיון ה-DataFrame לפי העמודה השנייה בסדר יורד\n",
    "df_sorted = df.sort_values(by=df.columns[1], ascending=False)\n",
    "\n",
    "# הצגת ה-DataFrame הממויין\n",
    "print(df_sorted.head())\n",
    "\n",
    "# שמירת ה-DataFrame הממויין בחזרה כקובץ CSV\n",
    "df_sorted.to_csv('min_values_unspliced_sorted.csv', index=False)"
   ]
  }
 ],
 "metadata": {
  "kernelspec": {
   "display_name": "Python 3",
   "language": "python",
   "name": "python3"
  },
  "language_info": {
   "codemirror_mode": {
    "name": "ipython",
    "version": 3
   },
   "file_extension": ".py",
   "mimetype": "text/x-python",
   "name": "python",
   "nbconvert_exporter": "python",
   "pygments_lexer": "ipython3",
   "version": "3.11.9"
  }
 },
 "nbformat": 4,
 "nbformat_minor": 2
}
