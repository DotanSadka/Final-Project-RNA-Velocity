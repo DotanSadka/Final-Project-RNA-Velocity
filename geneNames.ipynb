{
 "cells": [
  {
   "cell_type": "code",
   "execution_count": 2,
   "metadata": {},
   "outputs": [],
   "source": [
    "import os"
   ]
  },
  {
   "cell_type": "code",
   "execution_count": 3,
   "metadata": {},
   "outputs": [],
   "source": [
    "folder_path = 'good'\n",
    "genes_names = []"
   ]
  },
  {
   "cell_type": "code",
   "execution_count": 4,
   "metadata": {},
   "outputs": [],
   "source": [
    "for filename in os.listdir(folder_path):\n",
    "    if filename.endswith(\".jpg\") or filename.endswith(\".png\"):  # או כל פורמט אחר של תמונות\n",
    "        name_without_extension = os.path.splitext(filename)[0]  # הסרת הסיומת\n",
    "        genes_names.append(name_without_extension)"
   ]
  },
  {
   "cell_type": "code",
   "execution_count": 5,
   "metadata": {},
   "outputs": [
    {
     "name": "stdout",
     "output_type": "stream",
     "text": [
      "['ACTA2', 'ACTR3B', 'ANLN', 'AP1M2', 'APOE', 'AR', 'BCL2', 'BGN', 'BRAF', 'C10orf54', 'C1QA', 'CCL4', 'CCNB1', 'CCND1', 'CCNE1', 'CD14', 'CD24', 'CD36', 'CD38', 'CD3E', 'CD3G', 'CD5', 'CD63', 'CD69', 'CD7', 'CD79B', 'CD8A', 'CDC20', 'CDC6', 'CDH3', 'CDK4', 'CDK6', 'CDKN2A', 'CENPF', 'COL1A1', 'COL3A1', 'COL4A1', 'COL4A5', 'CRABP2', 'CSRP2', 'CSTB', 'CTSL', 'CXXC5', 'DCN', 'EFNA5', 'EIF3E', 'ELF5', 'ERBB2', 'ERBB3', 'ESR1', 'FABP7', 'FAP', 'FASN', 'FAT1', 'FCGR3A', 'FCN1', 'FCRL5', 'FGFR2', 'FGFR4', 'FN1', 'FOS', 'FOXC1', 'FOXP3', 'FTL', 'GATA3', 'GNLY', 'GPNMB', 'GRB7', 'GSN', 'GZMB', 'HIF1A', 'HLA-C', 'HLA-DRA', 'HLA-DRB5', 'HLA-E', 'HSPB1', 'HSPG2', 'ICOS', 'IFITM3', 'IGF1R', 'IGFBP5', 'IGHG1', 'IGHG4', 'IGHM', 'IGKC', 'IL32', 'IL7R', 'ISG20', 'JUN', 'KIF23', 'KIT', 'KRAS', 'KRT14', 'KRT15', 'KRT18', 'KRT19', 'KRT5', 'KRT8', 'LAMA1', 'LDB2', 'LGALS2', 'LGMN', 'LRP2', 'LST1', 'LTF', 'LYZ', 'MAPK13', 'MAPK3', 'MDM2', 'MELK', 'MLPH', 'MMP12', 'MMP9', 'MS4A1', 'MSR1', 'MT2A', 'MYB', 'MYLK', 'MYO10', 'MYO5B', 'MZB1', 'NFKBIA', 'NKG7', 'NOTCH1', 'NR3C1', 'NUF2', 'ORC6', 'PABPC1', 'PDPN', 'PGR', 'PHGDH', 'PLVAP', 'POU2AF1', 'PRLR', 'PTPRB', 'PTPRC', 'PTTG1', 'RPSA', 'S100A14', 'S100A9', 'SFRP1', 'SIAH2', 'SKAP1', 'SLC2A1', 'SLC39A6', 'SLPI', 'SOX10', 'SOX18', 'SOX4', 'SPDEF', 'SULF1', 'TCF4', 'TCL1A', 'TFF1', 'TFF3', 'TFRC', 'THEMIS', 'THY1', 'TMEM45B', 'TMSB10', 'TMSB4X', 'TPM2', 'TSPAN1', 'UBE2T', 'XCL1']\n"
     ]
    }
   ],
   "source": [
    "print(genes_names)"
   ]
  },
  {
   "cell_type": "markdown",
   "metadata": {},
   "source": [
    "AFTER F-SCORE FILTER- CHECK THE K-PLOT IF THERE IS convergence IN K=200"
   ]
  },
  {
   "cell_type": "code",
   "execution_count": 7,
   "metadata": {},
   "outputs": [
    {
     "data": {
      "text/plain": [
       "['LAMA1',\n",
       " 'MZB1',\n",
       " 'FOS',\n",
       " 'KRT8',\n",
       " 'FCGR3A',\n",
       " 'LGMN',\n",
       " 'GRB7',\n",
       " 'MYO10',\n",
       " 'SLC39A6',\n",
       " 'SOX18',\n",
       " 'C1QA',\n",
       " 'CDH3',\n",
       " 'CD79B',\n",
       " 'FCRL5',\n",
       " 'CCNE1',\n",
       " 'MELK',\n",
       " 'CCND1',\n",
       " 'FGFR2',\n",
       " 'ACTA2',\n",
       " 'UBE2T',\n",
       " 'CTSL',\n",
       " 'TSPAN1',\n",
       " 'FASN',\n",
       " 'KRT18',\n",
       " 'NKG7',\n",
       " 'CD36',\n",
       " 'KRT19',\n",
       " 'RPSA',\n",
       " 'PTPRC',\n",
       " 'SLPI',\n",
       " 'IGKC',\n",
       " 'LYZ',\n",
       " 'FGFR4',\n",
       " 'SULF1',\n",
       " 'GZMB',\n",
       " 'CD3G',\n",
       " 'TMSB4X',\n",
       " 'NOTCH1',\n",
       " 'FTL',\n",
       " 'BCL2',\n",
       " 'MYLK',\n",
       " 'CRABP2',\n",
       " 'NFKBIA',\n",
       " 'TFF1',\n",
       " 'HLA-E',\n",
       " 'CD5',\n",
       " 'GSN',\n",
       " 'TFF3',\n",
       " 'C10orf54',\n",
       " 'TMSB10',\n",
       " 'CSTB',\n",
       " 'KRT14',\n",
       " 'LDB2',\n",
       " 'CCNB1',\n",
       " 'HIF1A',\n",
       " 'KRT5',\n",
       " 'KIF23',\n",
       " 'TFRC',\n",
       " 'COL4A5',\n",
       " 'CD38',\n",
       " 'MT2A',\n",
       " 'MAPK13',\n",
       " 'CDK6',\n",
       " 'IGFBP5',\n",
       " 'FOXP3',\n",
       " 'PHGDH',\n",
       " 'TCF4',\n",
       " 'FAP',\n",
       " 'S100A9',\n",
       " 'LTF',\n",
       " 'COL3A1',\n",
       " 'THY1',\n",
       " 'GNLY',\n",
       " 'NR3C1',\n",
       " 'MMP9',\n",
       " 'DCN',\n",
       " 'POU2AF1',\n",
       " 'CD63',\n",
       " 'ELF5',\n",
       " 'IFITM3',\n",
       " 'IGHG1',\n",
       " 'IGHG4',\n",
       " 'NUF2',\n",
       " 'FABP7',\n",
       " 'LRP2',\n",
       " 'COL4A1',\n",
       " 'MDM2',\n",
       " 'THEMIS',\n",
       " 'PTTG1',\n",
       " 'KRT15',\n",
       " 'FAT1',\n",
       " 'IGHM',\n",
       " 'CDK4',\n",
       " 'ANLN',\n",
       " 'MLPH',\n",
       " 'SKAP1',\n",
       " 'CD3E',\n",
       " 'SPDEF',\n",
       " 'TCL1A',\n",
       " 'MYO5B',\n",
       " 'CDC6',\n",
       " 'GATA3',\n",
       " 'AR',\n",
       " 'CD7',\n",
       " 'KRAS',\n",
       " 'ERBB3',\n",
       " 'SLC2A1',\n",
       " 'CD8A',\n",
       " 'HLA-C',\n",
       " 'JUN',\n",
       " 'PRLR',\n",
       " 'ERBB2',\n",
       " 'TPM2',\n",
       " 'BRAF',\n",
       " 'MSR1',\n",
       " 'ICOS',\n",
       " 'CSRP2',\n",
       " 'KIT',\n",
       " 'FN1',\n",
       " 'LST1',\n",
       " 'HLA-DRB5',\n",
       " 'TMEM45B',\n",
       " 'PGR',\n",
       " 'EFNA5',\n",
       " 'FOXC1',\n",
       " 'CD69',\n",
       " 'HSPB1',\n",
       " 'CD24',\n",
       " 'IGF1R',\n",
       " 'CD14',\n",
       " 'MMP12',\n",
       " 'S100A14',\n",
       " 'FCN1',\n",
       " 'CENPF',\n",
       " 'LGALS2',\n",
       " 'PDPN',\n",
       " 'CCL4',\n",
       " 'PABPC1',\n",
       " 'XCL1',\n",
       " 'MAPK3',\n",
       " 'ISG20',\n",
       " 'PLVAP',\n",
       " 'SFRP1',\n",
       " 'APOE',\n",
       " 'BGN',\n",
       " 'MYB',\n",
       " 'CDKN2A',\n",
       " 'AP1M2',\n",
       " 'CDC20',\n",
       " 'HSPG2']"
      ]
     },
     "execution_count": 7,
     "metadata": {},
     "output_type": "execute_result"
    }
   ],
   "source": [
    "after_filter = ['LAMA1', 'MZB1', 'FOS', 'KRT8', 'FCGR3A', 'LGMN', 'GRB7', 'MYO10', 'SLC39A6', 'SOX18', 'C1QA', 'CDH3', 'CD79B', 'FCRL5', 'CCNE1', 'MELK', 'CCND1', 'FGFR2', 'ACTA2', 'UBE2T', 'CTSL', 'TSPAN1', 'FASN', 'KRT18', 'NKG7', 'CD36', 'KRT19', 'RPSA', 'PTPRC', 'SLPI', 'IGKC', 'LYZ', 'FGFR4', 'SULF1', 'GZMB', 'CD3G', 'TMSB4X', 'NOTCH1', 'FTL', 'BCL2', 'MYLK', 'CRABP2', 'NFKBIA', 'TFF1', 'HLA-E', 'CD5', 'GSN', 'TFF3', 'C10orf54', 'TMSB10', 'CSTB', 'KRT14', 'LDB2', 'CCNB1', 'HIF1A', 'KRT5', 'KIF23', 'TFRC', 'COL4A5', 'CD38', 'MT2A', 'MAPK13', 'CDK6', 'IGFBP5', 'FOXP3', 'PHGDH', 'TCF4', 'FAP', 'S100A9', 'LTF', 'COL3A1', 'THY1', 'GNLY', 'NR3C1', 'MMP9', 'DCN', 'POU2AF1', 'CD63', 'ELF5', 'IFITM3', 'IGHG1', 'IGHG4', 'NUF2', 'FABP7', 'LRP2', 'COL4A1', 'MDM2', 'THEMIS', 'PTTG1', 'KRT15', 'FAT1', 'IGHM', 'CDK4', 'ANLN', 'MLPH', 'SKAP1', 'CD3E', 'SPDEF', 'TCL1A', 'MYO5B', 'CDC6', 'GATA3', 'AR', 'CD7', 'KRAS', 'ERBB3', 'SLC2A1', 'CD8A', 'HLA-C', 'JUN', 'PRLR', 'ERBB2', 'TPM2', 'BRAF', 'MSR1', 'ICOS', 'CSRP2', 'KIT', 'FN1', 'LST1', 'HLA-DRB5', 'TMEM45B', 'PGR', 'EFNA5', 'FOXC1', 'CD69', 'HSPB1', 'CD24', 'IGF1R', 'CD14', 'MMP12', 'S100A14', 'FCN1', 'CENPF', 'LGALS2', 'PDPN', 'CCL4', 'PABPC1', 'XCL1', 'MAPK3', 'ISG20', 'PLVAP', 'SFRP1', 'APOE', 'BGN', 'MYB', 'CDKN2A', 'AP1M2', 'CDC20', 'HSPG2']\n",
    "after_filter"
   ]
  },
  {
   "cell_type": "code",
   "execution_count": 10,
   "metadata": {},
   "outputs": [],
   "source": [
    "import shutil\n",
    "\n",
    "source_folder = 'k_plot'\n",
    "destination_folder = 'k_plot_afterFilter'\n",
    "\n",
    "if not os.path.exists(destination_folder):\n",
    "    os.makedirs(destination_folder)\n",
    "\n",
    "for filename in os.listdir(source_folder):\n",
    "    name_without_extension = os.path.splitext(filename)[0]\n",
    "    if name_without_extension in after_filter:\n",
    "        source_path = os.path.join(source_folder, filename)\n",
    "        destination_path = os.path.join(destination_folder, filename)\n",
    "        shutil.copy(source_path, destination_path)"
   ]
  }
 ],
 "metadata": {
  "kernelspec": {
   "display_name": "Python 3",
   "language": "python",
   "name": "python3"
  },
  "language_info": {
   "codemirror_mode": {
    "name": "ipython",
    "version": 3
   },
   "file_extension": ".py",
   "mimetype": "text/x-python",
   "name": "python",
   "nbconvert_exporter": "python",
   "pygments_lexer": "ipython3",
   "version": "3.11.9"
  }
 },
 "nbformat": 4,
 "nbformat_minor": 2
}
